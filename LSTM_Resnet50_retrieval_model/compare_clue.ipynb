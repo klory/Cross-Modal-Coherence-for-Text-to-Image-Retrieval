{
 "cells": [
  {
   "cell_type": "code",
   "execution_count": 1,
   "metadata": {},
   "outputs": [
    {
     "name": "stdout",
     "output_type": "stream",
     "text": [
      "Pretty printing has been turned OFF\n"
     ]
    }
   ],
   "source": [
    "%matplotlib inline\n",
    "%pprint on"
   ]
  },
  {
   "cell_type": "code",
   "execution_count": 2,
   "metadata": {},
   "outputs": [],
   "source": [
    "import numpy as np\n",
    "from matplotlib import pyplot as plt\n",
    "import utils\n",
    "import os\n",
    "from PIL import Image\n",
    "import json\n",
    "import torch\n",
    "import json\n",
    "from gensim.models.keyedvectors import KeyedVectors\n",
    "from types import SimpleNamespace\n",
    "from networks import TextEncoder, ImageEncoder, DiscourseClassifier\n",
    "from datasets import CoherenceDataset, val_transform\n",
    "from torch.utils.data import DataLoader\n",
    "from tqdm import tqdm\n",
    "import re\n",
    "from PIL import Image\n",
    "import requests\n",
    "from io import BytesIO\n",
    "from torchvision import transforms\n",
    "import pandas as pd"
   ]
  },
  {
   "cell_type": "code",
   "execution_count": 3,
   "metadata": {},
   "outputs": [],
   "source": [
    "def load_model(path, with_attention=2):\n",
    "    text_encoder = TextEncoder(\n",
    "        emb_dim=args.word2vec_dim,\n",
    "        hid_dim=args.rnn_hid_dim,\n",
    "        z_dim=args.feature_dim,\n",
    "        max_len = args.max_len,\n",
    "        word2vec_file=f'models/word2vec_{args.data_source}.bin',\n",
    "        with_attention=with_attention).to(device)\n",
    "    image_encoder = ImageEncoder(\n",
    "        z_dim=args.feature_dim).to(device)\n",
    "    discourse_class = DiscourseClassifier(\n",
    "        len(relations), args.feature_dim).to(device)\n",
    "\n",
    "    ckpt = torch.load(path)\n",
    "    text_encoder.load_state_dict(ckpt['text_encoder'])\n",
    "    image_encoder.load_state_dict(ckpt['image_encoder'])\n",
    "    discourse_class.load_state_dict(ckpt['discourse_class'])\n",
    "    return text_encoder, image_encoder, discourse_class"
   ]
  },
  {
   "cell_type": "code",
   "execution_count": 4,
   "metadata": {},
   "outputs": [],
   "source": [
    "def generate_output(test_loader, text_encoder, image_encoder, discourse_class, valid_questions):\n",
    "    txt_feats = []\n",
    "    img_feats = []\n",
    "    probs = []\n",
    "    labels = []\n",
    "    attns = []\n",
    "    for batch in tqdm(test_loader):\n",
    "        for i in range(len(batch)):\n",
    "            batch[i] = batch[i].to(device)\n",
    "        txt, txt_len, img, target = batch\n",
    "        with torch.no_grad():\n",
    "            txt_feat, attn = text_encoder(txt.long(), txt_len)\n",
    "            img_feat = image_encoder(img)\n",
    "            prob = torch.sigmoid(discourse_class(txt_feat, img_feat))[:,valid_questions]\n",
    "            txt_feats.append(txt_feat.detach().cpu())\n",
    "            img_feats.append(img_feat.detach().cpu())\n",
    "            probs.append(prob.detach().cpu())\n",
    "            if text_encoder.with_attention:\n",
    "                attns.append(attn.detach().cpu())\n",
    "            labels.append(target[:,valid_questions].detach().cpu())\n",
    "\n",
    "    txt_feats = torch.cat(txt_feats, dim=0).numpy()\n",
    "    img_feats = torch.cat(img_feats, dim=0).numpy()\n",
    "    probs = torch.cat(probs, dim=0).numpy()\n",
    "    labels = torch.cat(labels, dim=0).numpy()\n",
    "    if text_encoder.with_attention:\n",
    "        attns = torch.cat(attns, dim=0).numpy()\n",
    "    return probs, labels, attns, txt_feats, img_feats"
   ]
  },
  {
   "cell_type": "code",
   "execution_count": 5,
   "metadata": {},
   "outputs": [],
   "source": [
    "def rank(rcps, imgs, retrieved_type='image', retrieved_range=1000, n_repeat=30):\n",
    "    N = retrieved_range\n",
    "    data_size = imgs.shape[0]\n",
    "    idxs = range(N)\n",
    "    glob_rank = []\n",
    "    glob_recall = {1: 0.0, 5: 0.0, 10: 0.0}\n",
    "    # average over 20 sets\n",
    "    for i in range(n_repeat):\n",
    "        ids_sub = np.random.choice(data_size, N, replace=False)\n",
    "        imgs_sub = imgs[ids_sub, :]\n",
    "        rcps_sub = rcps[ids_sub, :]\n",
    "        imgs_sub = imgs_sub / np.linalg.norm(imgs_sub, axis=1)[:, None]\n",
    "        rcps_sub = rcps_sub / np.linalg.norm(rcps_sub, axis=1)[:, None]\n",
    "        if retrieved_type == 'recipe':\n",
    "            sims = np.dot(imgs_sub, rcps_sub.T)  # [N, N]\n",
    "        else:\n",
    "            sims = np.dot(rcps_sub, imgs_sub.T)\n",
    "        med_rank = []\n",
    "        recall = {1: 0.0, 5: 0.0, 10: 0.0}\n",
    "        # loop through the N similarities for images\n",
    "        for ii in idxs:\n",
    "            # get a column of similarities for image ii\n",
    "            sim = sims[ii, :]\n",
    "            # sort indices in descending order\n",
    "            sorting = np.argsort(sim)[::-1].tolist()\n",
    "            # find where the index of the pair sample ended up in the sorting\n",
    "            pos = sorting.index(ii)\n",
    "            if (pos + 1) == 1:\n",
    "                recall[1] += 1\n",
    "            if (pos + 1) <= 5:\n",
    "                recall[5] += 1\n",
    "            if (pos + 1) <= 10:\n",
    "                recall[10] += 1\n",
    "            # store the position\n",
    "            med_rank.append(pos+1)\n",
    "\n",
    "        for i in recall.keys():\n",
    "            recall[i] = recall[i]/N\n",
    "        med = np.median(med_rank)\n",
    "        for i in recall.keys():\n",
    "            glob_recall[i] += recall[i]\n",
    "        glob_rank.append(med)\n",
    "\n",
    "    for i in glob_recall.keys():\n",
    "        glob_recall[i] = glob_recall[i]/10\n",
    "    return np.asarray(glob_rank), glob_recall"
   ]
  },
  {
   "cell_type": "markdown",
   "metadata": {},
   "source": [
    "# Boxplot the performances of different models"
   ]
  },
  {
   "cell_type": "code",
   "execution_count": 6,
   "metadata": {},
   "outputs": [],
   "source": [
    "class Config:\n",
    "    def __init__(self, name, path, questions, with_attention):\n",
    "        self.name = name\n",
    "        self.path = path\n",
    "        self.questions = questions\n",
    "        self.with_attention = with_attention\n",
    "        self.medRs = None\n",
    "        self.recalls = None"
   ]
  },
  {
   "cell_type": "markdown",
   "metadata": {},
   "source": [
    "## Clue"
   ]
  },
  {
   "cell_type": "code",
   "execution_count": 7,
   "metadata": {},
   "outputs": [],
   "source": [
    "device = 'cuda'\n",
    "args = {\n",
    "    'data_source': 'clue',\n",
    "    'img_dir': '../data/conceptual/images/',\n",
    "    'word2vec_dim': 300,\n",
    "    'rnn_hid_dim': 300,\n",
    "    'feature_dim': 1024,\n",
    "    'max_len': 40,\n",
    "    'dataset_q': 0,\n",
    "    'with_attention': 2,\n",
    "    'batch_size': 64,\n",
    "    'workers': 4\n",
    "}\n",
    "args = SimpleNamespace(**args)\n",
    "relations = relations = ['Visible', 'Subjective', 'Action', 'Story', 'Meta', 'Irrelevant']"
   ]
  },
  {
   "cell_type": "code",
   "execution_count": 8,
   "metadata": {},
   "outputs": [
    {
     "name": "stdout",
     "output_type": "stream",
     "text": [
      "vocab size = 5612\n",
      "test data: 1512 24\n"
     ]
    }
   ],
   "source": [
    "test_set = CoherenceDataset(\n",
    "            part='test',\n",
    "            datasource=args.data_source,\n",
    "            word2vec_file=f'models/word2vec_{args.data_source}.bin',\n",
    "            max_len=args.max_len,\n",
    "            dataset_q=args.dataset_q,  # experimental things, ignore it for now\n",
    "            transform=val_transform)\n",
    "\n",
    "test_loader = DataLoader(\n",
    "            test_set, batch_size=args.batch_size, shuffle=False,\n",
    "            num_workers=args.workers, pin_memory=True,\n",
    "            drop_last=False)\n",
    "\n",
    "print('test data:', len(test_set), len(test_loader))"
   ]
  },
  {
   "cell_type": "code",
   "execution_count": 9,
   "metadata": {},
   "outputs": [
    {
     "data": {
      "text/plain": [
       "10"
      ]
     },
     "execution_count": 9,
     "metadata": {},
     "output_type": "execute_result"
    }
   ],
   "source": [
    "configs = []\n",
    "# Base\n",
    "path = 'runs/samples6047_retrieval=1.00_classification=0.00_reweight=1000.00_weightDecay=0.0_withAttention=0_question=0,1,2,3,4,5_maxLen=40/e14.ckpt'\n",
    "valid_questions = torch.tensor([0,1,2,3,4,5], dtype=torch.long)\n",
    "with_attention = 0\n",
    "configs.append(Config('Base', path, valid_questions, with_attention))\n",
    "\n",
    "# CMCA\n",
    "path = 'runs/samples6047_retrieval=1.00_classification=0.00_reweight=1000.00_weightDecay=0.0_withAttention=2_question=0,1,2,3,4,5_maxLen=40/e14.ckpt'\n",
    "valid_questions = torch.tensor([0,1,2,3,4,5], dtype=torch.long)\n",
    "with_attention = 2\n",
    "configs.append(Config('CMCA', path, valid_questions, with_attention))\n",
    "\n",
    "# CMCM-NoAttn\n",
    "path = 'runs/samples6047_retrieval=1.00_classification=0.00_reweight=1000.00_weightDecay=0.0_withAttention=0_question=0,1,2,3,4,5_maxLen=40/e14.ckpt'\n",
    "valid_questions = torch.tensor([0,1,2,3,4,5], dtype=torch.long)\n",
    "with_attention = 0\n",
    "configs.append(Config('CMCM-NoAttn', path, valid_questions, with_attention))\n",
    "\n",
    "# CMCM\n",
    "path = 'runs/samples6047_retrieval=1.00_classification=0.10_reweight=1000.00_weightDecay=0.0_withAttention=2_question=0,1,2,3,4,5_maxLen=40/e14.ckpt'\n",
    "valid_questions = torch.tensor([0,1,2,3,4,5], dtype=torch.long)\n",
    "with_attention = 2\n",
    "configs.append(Config('CMCM', path, valid_questions, with_attention))\n",
    "\n",
    "# Visible\n",
    "path = 'runs/samples6047_retrieval=1.00_classification=0.10_reweight=1000.00_weightDecay=0.0_withAttention=2_question=0_maxLen=40/e14.ckpt'\n",
    "valid_questions = torch.tensor([0], dtype=torch.long)\n",
    "with_attention = 2\n",
    "configs.append(Config('CMCM_{Visible}', path, valid_questions, with_attention))\n",
    "\n",
    "# Subjective\n",
    "path = 'runs/samples6047_retrieval=1.00_classification=0.10_reweight=1000.00_weightDecay=0.0_withAttention=2_question=1_maxLen=40/e14.ckpt'\n",
    "valid_questions = torch.tensor([1], dtype=torch.long)\n",
    "with_attention = 2\n",
    "configs.append(Config('CMCM_{Subjective}', path, valid_questions, with_attention))\n",
    "\n",
    "# Action\n",
    "path = 'runs/samples6047_retrieval=1.00_classification=0.10_reweight=1000.00_weightDecay=0.0_withAttention=2_question=2_maxLen=40/e14.ckpt'\n",
    "valid_questions = torch.tensor([2], dtype=torch.long)\n",
    "with_attention = 2\n",
    "configs.append(Config('CMCM_{Action}', path, valid_questions, with_attention))\n",
    "\n",
    "# Story\n",
    "path = 'runs/samples6047_retrieval=1.00_classification=0.10_reweight=1000.00_weightDecay=0.0_withAttention=2_question=3_maxLen=40/e14.ckpt'\n",
    "valid_questions = torch.tensor([3], dtype=torch.long)\n",
    "with_attention = 2\n",
    "configs.append(Config('CMCM_{Story}', path, valid_questions, with_attention))\n",
    "\n",
    "# Meta\n",
    "path = 'runs/samples6047_retrieval=1.00_classification=0.10_reweight=1000.00_weightDecay=0.0_withAttention=2_question=4_maxLen=40/e14.ckpt'\n",
    "valid_questions = torch.tensor([4], dtype=torch.long)\n",
    "with_attention = 2\n",
    "configs.append(Config('CMCM_{Meta}', path, valid_questions, with_attention))\n",
    "\n",
    "# Irrelavant\n",
    "path = 'runs/samples6047_retrieval=1.00_classification=0.10_reweight=1000.00_weightDecay=0.0_withAttention=2_question=5_maxLen=40/e14.ckpt'\n",
    "valid_questions = torch.tensor([5], dtype=torch.long)\n",
    "with_attention = 2\n",
    "configs.append(Config('CMCM_{Irrelavant}', path, valid_questions, with_attention))\n",
    "\n",
    "len(configs)"
   ]
  },
  {
   "cell_type": "code",
   "execution_count": 10,
   "metadata": {},
   "outputs": [
    {
     "name": "stdout",
     "output_type": "stream",
     "text": [
      "<__main__.Config object at 0x7f0c934072e0>\n"
     ]
    },
    {
     "name": "stderr",
     "output_type": "stream",
     "text": [
      "100%|██████████| 24/24 [00:49<00:00,  2.04s/it]\n"
     ]
    },
    {
     "name": "stdout",
     "output_type": "stream",
     "text": [
      "retrieved_range = 500\n",
      "<__main__.Config object at 0x7f0cb97b7be0>\n"
     ]
    },
    {
     "name": "stderr",
     "output_type": "stream",
     "text": [
      "100%|██████████| 24/24 [00:50<00:00,  2.11s/it]\n"
     ]
    },
    {
     "name": "stdout",
     "output_type": "stream",
     "text": [
      "retrieved_range = 500\n",
      "<__main__.Config object at 0x7f0c2d548520>\n"
     ]
    },
    {
     "name": "stderr",
     "output_type": "stream",
     "text": [
      "100%|██████████| 24/24 [00:48<00:00,  2.03s/it]\n"
     ]
    },
    {
     "name": "stdout",
     "output_type": "stream",
     "text": [
      "retrieved_range = 500\n",
      "<__main__.Config object at 0x7f0c2d548430>\n"
     ]
    },
    {
     "name": "stderr",
     "output_type": "stream",
     "text": [
      "100%|██████████| 24/24 [00:48<00:00,  2.02s/it]\n"
     ]
    },
    {
     "name": "stdout",
     "output_type": "stream",
     "text": [
      "retrieved_range = 500\n",
      "<__main__.Config object at 0x7f0c2d548460>\n"
     ]
    },
    {
     "name": "stderr",
     "output_type": "stream",
     "text": [
      "100%|██████████| 24/24 [00:50<00:00,  2.10s/it]\n"
     ]
    },
    {
     "name": "stdout",
     "output_type": "stream",
     "text": [
      "retrieved_range = 500\n",
      "<__main__.Config object at 0x7f0c2d548400>\n"
     ]
    },
    {
     "name": "stderr",
     "output_type": "stream",
     "text": [
      "100%|██████████| 24/24 [00:49<00:00,  2.07s/it]\n"
     ]
    },
    {
     "name": "stdout",
     "output_type": "stream",
     "text": [
      "retrieved_range = 500\n",
      "<__main__.Config object at 0x7f0c2d548490>\n"
     ]
    },
    {
     "name": "stderr",
     "output_type": "stream",
     "text": [
      "100%|██████████| 24/24 [00:50<00:00,  2.09s/it]\n"
     ]
    },
    {
     "name": "stdout",
     "output_type": "stream",
     "text": [
      "retrieved_range = 500\n",
      "<__main__.Config object at 0x7f0c2d5484c0>\n"
     ]
    },
    {
     "name": "stderr",
     "output_type": "stream",
     "text": [
      "100%|██████████| 24/24 [00:51<00:00,  2.16s/it]\n"
     ]
    },
    {
     "name": "stdout",
     "output_type": "stream",
     "text": [
      "retrieved_range = 500\n",
      "<__main__.Config object at 0x7f0c2d548550>\n"
     ]
    },
    {
     "name": "stderr",
     "output_type": "stream",
     "text": [
      "100%|██████████| 24/24 [00:48<00:00,  2.02s/it]\n"
     ]
    },
    {
     "name": "stdout",
     "output_type": "stream",
     "text": [
      "retrieved_range = 500\n",
      "<__main__.Config object at 0x7f0c2d548580>\n"
     ]
    },
    {
     "name": "stderr",
     "output_type": "stream",
     "text": [
      "100%|██████████| 24/24 [00:49<00:00,  2.05s/it]\n"
     ]
    },
    {
     "name": "stdout",
     "output_type": "stream",
     "text": [
      "retrieved_range = 500\n"
     ]
    }
   ],
   "source": [
    "for config in configs:\n",
    "    print(config)\n",
    "    txt_encoder, img_encoder, classifier = load_model(config.path, with_attention=config.with_attention)\n",
    "    probs_test, labels_test, attns_test, txt_test, img_test = generate_output(test_loader, txt_encoder, img_encoder, classifier, config.questions)\n",
    "    probs_test.shape\n",
    "    retrieved_range = min(txt_test.shape[0], 500)\n",
    "    print('retrieved_range =', retrieved_range)\n",
    "    medRs, recalls = rank(\n",
    "        txt_test, \n",
    "        img_test, \n",
    "        retrieved_type='image', \n",
    "        retrieved_range=retrieved_range,\n",
    "        n_repeat=50)\n",
    "    config.medRs = medRs\n",
    "    config.recalls = recalls"
   ]
  },
  {
   "cell_type": "code",
   "execution_count": 11,
   "metadata": {},
   "outputs": [
    {
     "name": "stdout",
     "output_type": "stream",
     "text": [
      "\n",
      " Base\n",
      "24.32 2.721690651047617\n",
      "1 0.5783999999999999\n",
      "5 1.3601999999999994\n",
      "10 1.8210000000000002\n",
      "\n",
      " CMCA\n",
      "21.19 2.0539961051569695\n",
      "1 0.6521999999999999\n",
      "5 1.4821999999999997\n",
      "10 1.9376000000000002\n",
      "\n",
      " CMCM-NoAttn\n",
      "24.67 2.7433738352619756\n",
      "1 0.5808\n",
      "5 1.389\n",
      "10 1.828\n",
      "\n",
      " CMCM\n",
      "21.04 2.1280037593951757\n",
      "1 0.6472000000000001\n",
      "5 1.4409999999999996\n",
      "10 1.9308000000000003\n",
      "\n",
      " CMCM_{Visible}\n",
      "22.18 3.2011872797448135\n",
      "1 0.6360000000000001\n",
      "5 1.4991999999999996\n",
      "10 1.9889999999999997\n",
      "\n",
      " CMCM_{Subjective}\n",
      "27.96 3.1604430069216565\n",
      "1 0.5299999999999999\n",
      "5 1.299\n",
      "10 1.7575999999999994\n",
      "\n",
      " CMCM_{Action}\n",
      "22.49 2.7613221470882388\n",
      "1 0.6411999999999999\n",
      "5 1.4710000000000003\n",
      "10 1.9116000000000004\n",
      "\n",
      " CMCM_{Story}\n",
      "20.66 2.093895890439637\n",
      "1 0.6234\n",
      "5 1.4506\n",
      "10 1.9300000000000002\n",
      "\n",
      " CMCM_{Meta}\n",
      "21.37 2.6245190035509363\n",
      "1 0.6454\n",
      "5 1.4602000000000004\n",
      "10 1.9242000000000004\n",
      "\n",
      " CMCM_{Irrelavant}\n",
      "22.2 2.6362852652928135\n",
      "1 0.6391999999999998\n",
      "5 1.4703999999999993\n",
      "10 1.9314000000000004\n"
     ]
    },
    {
     "data": {
      "text/plain": [
       "<Figure size 1440x1152 with 0 Axes>"
      ]
     },
     "metadata": {},
     "output_type": "display_data"
    },
    {
     "data": {
      "image/png": "[encoded data removed]",
      "text/plain": [
       "<Figure size 864x432 with 1 Axes>"
      ]
     },
     "metadata": {
      "needs_background": "light"
     },
     "output_type": "display_data"
    }
   ],
   "source": [
    "df = pd.DataFrame()\n",
    "for config in configs:\n",
    "    df[config.name] = config.medRs\n",
    "    print(f'\\n {config.name}')\n",
    "    print(config.medRs.mean(), config.medRs.std())\n",
    "    for r,v in config.recalls.items():\n",
    "        print(r,v)\n",
    "\n",
    "plt.figure(figsize=(20,16))\n",
    "df.plot.box(subplots=False, figsize=(12,6))\n",
    "ticks = range(1, len(configs)+1)\n",
    "labels = [r'${}$'.format(x.name) for x in configs]\n",
    "plt.xticks(ticks, labels)\n",
    "plt.rcParams[\"font.family\"] = \"Times New Roman\"\n",
    "plt.rcParams[\"font.size\"] = \"10\""
   ]
  },
  {
   "cell_type": "code",
   "execution_count": null,
   "metadata": {},
   "outputs": [],
   "source": []
  }
 ],
 "metadata": {
  "kernelspec": {
   "display_name": "Python 3",
   "language": "python",
   "name": "python3"
  },
  "language_info": {
   "codemirror_mode": {
    "name": "ipython",
    "version": 3
   },
   "file_extension": ".py",
   "mimetype": "text/x-python",
   "name": "python",
   "nbconvert_exporter": "python",
   "pygments_lexer": "ipython3",
   "version": "3.8.3"
  }
 },
 "nbformat": 4,
 "nbformat_minor": 4
}
